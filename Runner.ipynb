{
 "cells": [
  {
   "cell_type": "code",
   "execution_count": 2,
   "metadata": {
    "scrolled": true
   },
   "outputs": [
    {
     "name": "stdout",
     "output_type": "stream",
     "text": [
      "Namespace(algorithm='LR', example_to_train=170, hidden_size=300, load='', load_data='', lr=0.001, no_eval=True, no_train=False, num_epochs=10, path_to_data='data/', save='', save_data='', split_ratio=0.75)\n",
      "Split ratio-------> 0.75\n",
      "Learning rate -------> 0.001\n",
      "Epochs -------> 10\n",
      "Path to data -------> data/\n",
      "Algo --------> LR\n",
      "GameList size:  718\n",
      "TeamList size:  166\n",
      "X_train size:  618\n",
      "Y_train size:  618\n",
      "GameList size:  792\n",
      "TeamList size:  179\n",
      "X_train size:  692\n",
      "Y_train size:  692\n",
      "GameList size:  792\n",
      "TeamList size:  183\n",
      "X_train size:  692\n",
      "Y_train size:  692\n",
      "GameList size:  804\n",
      "TeamList size:  189\n",
      "X_train size:  704\n",
      "Y_train size:  704\n",
      "GameList size:  808\n",
      "TeamList size:  195\n",
      "X_train size:  708\n",
      "Y_train size:  708\n",
      "GameList size:  808\n",
      "TeamList size:  195\n",
      "X_train size:  708\n",
      "Y_train size:  708\n",
      "GameList size:  812\n",
      "TeamList size:  197\n",
      "X_train size:  712\n",
      "Y_train size:  712\n",
      "Loss:  0.7507091760635376\n",
      "Loss:  0.7401883602142334\n",
      "Loss:  0.7304214239120483\n",
      "Loss:  0.7222685813903809\n",
      "Loss:  0.7148277163505554\n",
      "Loss:  0.7083348035812378\n",
      "Loss:  0.7023820877075195\n",
      "Loss:  0.697297990322113\n",
      "Loss:  0.6922495365142822\n",
      "Loss:  0.6885650753974915\n",
      "2880\n",
      "2880\n",
      "60.55555555555556\n",
      "1744\n",
      "1954\n",
      "1954\n",
      "59.46775844421699\n",
      "1162\n",
      "Training Loss:  Variable containing:\n",
      " 0.6886\n",
      "[torch.FloatTensor of size 1]\n",
      "\n",
      "Test Loss:  Variable containing:\n",
      " 0.6932\n",
      "[torch.FloatTensor of size 1]\n",
      "\n",
      "Training Accuracy:  60.55555555555556\n",
      "Test Accuracy:  59.46775844421699\n",
      "Correct predictions train:  1744\n",
      "Correct predictions test:  1162\n"
     ]
    }
   ],
   "source": [
    "%run main.py --no_eval \\\n",
    "--path_to_data \"data/\" \\\n",
    "--split_ratio 0.75 \\\n",
    "--num_epochs 10 \\\n",
    "--example_to_train 170 \\\n",
    "--lr 0.001 \\\n",
    "--algorithm \"LR\" \\\n",
    "\n"
   ]
  },
  {
   "cell_type": "code",
   "execution_count": null,
   "metadata": {
    "collapsed": true
   },
   "outputs": [],
   "source": []
  },
  {
   "cell_type": "code",
   "execution_count": null,
   "metadata": {
    "collapsed": true
   },
   "outputs": [],
   "source": []
  },
  {
   "cell_type": "code",
   "execution_count": null,
   "metadata": {
    "collapsed": true
   },
   "outputs": [],
   "source": []
  },
  {
   "cell_type": "code",
   "execution_count": null,
   "metadata": {
    "collapsed": true
   },
   "outputs": [],
   "source": []
  },
  {
   "cell_type": "code",
   "execution_count": null,
   "metadata": {
    "collapsed": true
   },
   "outputs": [],
   "source": []
  }
 ],
 "metadata": {
  "kernelspec": {
   "display_name": "Python 3",
   "language": "python",
   "name": "python3"
  },
  "language_info": {
   "codemirror_mode": {
    "name": "ipython",
    "version": 3
   },
   "file_extension": ".py",
   "mimetype": "text/x-python",
   "name": "python",
   "nbconvert_exporter": "python",
   "pygments_lexer": "ipython3",
   "version": "3.6.5"
  }
 },
 "nbformat": 4,
 "nbformat_minor": 2
}
