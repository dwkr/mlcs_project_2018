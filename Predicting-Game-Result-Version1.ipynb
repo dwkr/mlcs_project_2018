{
 "cells": [
  {
   "cell_type": "code",
   "execution_count": 72,
   "metadata": {
    "collapsed": true
   },
   "outputs": [],
   "source": [
    "import csv\n",
    "import numpy as np"
   ]
  },
  {
   "cell_type": "code",
   "execution_count": 73,
   "metadata": {
    "collapsed": true
   },
   "outputs": [],
   "source": [
    "with open('data-2005/game.csv', 'r') as f:\n",
    "  reader = csv.reader(f)\n",
    "  Game = list(reader)\n",
    "\n",
    "\n",
    "with open('data-2005/game-statistics.csv', 'r') as f:\n",
    "  reader = csv.reader(f)\n",
    "  GameStatistics = list(reader)\n",
    "    \n",
    "with open('data-2005/team-game-statistics.csv', 'r') as f:\n",
    "  reader = csv.reader(f)\n",
    "  TeamGameStatistics = list(reader)"
   ]
  },
  {
   "cell_type": "code",
   "execution_count": 74,
   "metadata": {},
   "outputs": [
    {
     "name": "stdout",
     "output_type": "stream",
     "text": [
      "719\n",
      "718\n"
     ]
    }
   ],
   "source": [
    "print(len(Game))\n",
    "Game = Game[1:]\n",
    "TeamGameStatistics = TeamGameStatistics[1:]\n",
    "print(len(Game))"
   ]
  },
  {
   "cell_type": "code",
   "execution_count": 75,
   "metadata": {},
   "outputs": [
    {
     "name": "stdout",
     "output_type": "stream",
     "text": [
      "['0086016420050901', '09/01/2005', '86', '164', '25', 'TEAM']\n",
      "1436\n"
     ]
    }
   ],
   "source": [
    "print(Game[0])\n",
    "#TeamGameStatistics[100]\n",
    "print(len(TeamGameStatistics))"
   ]
  },
  {
   "cell_type": "code",
   "execution_count": 76,
   "metadata": {},
   "outputs": [
    {
     "data": {
      "text/plain": [
       "['5',\n",
       " '0005055920050910',\n",
       " '21',\n",
       " '23',\n",
       " '0',\n",
       " '46',\n",
       " '26',\n",
       " '362',\n",
       " '3',\n",
       " '0',\n",
       " '0',\n",
       " '5',\n",
       " '144',\n",
       " '0',\n",
       " '2',\n",
       " '-2',\n",
       " '0',\n",
       " '0',\n",
       " '0',\n",
       " '0',\n",
       " '0',\n",
       " '0',\n",
       " '0',\n",
       " '0',\n",
       " '0',\n",
       " '0',\n",
       " '1',\n",
       " '1',\n",
       " '3',\n",
       " '3',\n",
       " '0',\n",
       " '0',\n",
       " '0',\n",
       " '0',\n",
       " '0',\n",
       " '24',\n",
       " '7',\n",
       " '260',\n",
       " '5',\n",
       " '228',\n",
       " '0',\n",
       " '0',\n",
       " '0',\n",
       " '4',\n",
       " '2',\n",
       " '59',\n",
       " '18',\n",
       " '2.0',\n",
       " '4',\n",
       " '0.0',\n",
       " '0',\n",
       " '0',\n",
       " '1',\n",
       " '2',\n",
       " '0',\n",
       " '4',\n",
       " '12',\n",
       " '1',\n",
       " '1433',\n",
       " '5',\n",
       " '42',\n",
       " '13',\n",
       " '2',\n",
       " '3',\n",
       " '0',\n",
       " '2',\n",
       " '1',\n",
       " '1']"
      ]
     },
     "execution_count": 76,
     "metadata": {},
     "output_type": "execute_result"
    }
   ],
   "source": [
    "TeamGameStatistics[0]"
   ]
  },
  {
   "cell_type": "code",
   "execution_count": null,
   "metadata": {},
   "outputs": [],
   "source": []
  },
  {
   "cell_type": "code",
   "execution_count": 77,
   "metadata": {
    "collapsed": true
   },
   "outputs": [],
   "source": [
    "games = {}\n",
    "games.update({'gameID':0})\n",
    "games.update({'date':0})\n",
    "games.update({'attendance':0})\n",
    "games.update({'duration':0})"
   ]
  },
  {
   "cell_type": "code",
   "execution_count": 78,
   "metadata": {},
   "outputs": [
    {
     "data": {
      "text/plain": [
       "{'attendance': 0, 'date': 0, 'duration': 0, 'gameID': 0}"
      ]
     },
     "execution_count": 78,
     "metadata": {},
     "output_type": "execute_result"
    }
   ],
   "source": [
    "games"
   ]
  },
  {
   "cell_type": "code",
   "execution_count": 79,
   "metadata": {
    "collapsed": true
   },
   "outputs": [],
   "source": [
    "#Assuming no anomolies in game data in TEAMGAMESTATS correspnoding to games in GAME\n",
    "#Add fields from TEAMSGAMESTATS in this function\n",
    "def SearchGame(GameID, TeamGameStatistics, HomeTeam, VisitTeam):\n",
    "    count = 0\n",
    "    for i,gamestats in enumerate(TeamGameStatistics):\n",
    "        if(gamestats[1] == GameID):\n",
    "            if(gamestats[0] == HomeTeam):\n",
    "                HomeTeamStats = gamestats\n",
    "            else:\n",
    "                VisitTeamStats = gamestats\n",
    "            count = count + 1\n",
    "        if(count == 2):\n",
    "            return(HomeTeamStats,VisitTeamStats)\n",
    "    print(\"Loop ended without returning! :( \")"
   ]
  },
  {
   "cell_type": "code",
   "execution_count": 80,
   "metadata": {
    "collapsed": true
   },
   "outputs": [],
   "source": [
    "def listOfDictionaries(GameList, Game, GameStatistics, TeamGameStatistics):\n",
    "    newGame = {}\n",
    "    newGame['Date'] = Game[1]\n",
    "    newGame['GameID'] = Game[0]\n",
    "    newGame['Attendance'] = GameStatistics[1]\n",
    "    newGame['Duration'] = GameStatistics[2]\n",
    "    newGame['HomeTeam'] = int(Game[3])\n",
    "    newGame['VisitTeam'] = int(Game[2])\n",
    "    HomeTeamStats, VisitTeamStats = SearchGame(Game[0],TeamGameStatistics,Game[3],Game[2])\n",
    "    newGame['HT-Points'] = int(HomeTeamStats[35])\n",
    "    newGame['VT-Points'] = int(VisitTeamStats[35])\n",
    "    GameList.append(newGame)\n",
    "    return GameList"
   ]
  },
  {
   "cell_type": "code",
   "execution_count": 81,
   "metadata": {},
   "outputs": [],
   "source": [
    "GameList = [] #List of dictionaries, based on sorted order of games\n",
    "TeamList = [] #List of Teams in sorted order of Team codes\n",
    "count = 0\n",
    "for i in range(len(Game)):\n",
    "    GameList = listOfDictionaries(GameList, Game[i], GameStatistics[i], TeamGameStatistics)\n",
    "    if(GameList[i]['HomeTeam'] in TeamList):\n",
    "        count = 1\n",
    "    else:\n",
    "        TeamList.append(GameList[i]['HomeTeam'])\n",
    "    if(GameList[i]['VisitTeam'] in TeamList):\n",
    "        count = 1\n",
    "    else:\n",
    "        TeamList.append(GameList[i]['VisitTeam'])\n",
    "        \n",
    "TeamList.sort()"
   ]
  },
  {
   "cell_type": "code",
   "execution_count": 82,
   "metadata": {},
   "outputs": [
    {
     "data": {
      "text/plain": [
       "{'Attendance': '49276',\n",
       " 'Date': '09/10/2005',\n",
       " 'Duration': '178',\n",
       " 'GameID': '0648025720050910',\n",
       " 'HT-Points': 17,\n",
       " 'HomeTeam': 257,\n",
       " 'VT-Points': 15,\n",
       " 'VisitTeam': 648}"
      ]
     },
     "execution_count": 82,
     "metadata": {},
     "output_type": "execute_result"
    }
   ],
   "source": [
    "GameList[100]"
   ]
  },
  {
   "cell_type": "code",
   "execution_count": 83,
   "metadata": {},
   "outputs": [],
   "source": [
    "NumberOfWins = []\n",
    "NumberOfMatches = []\n",
    "for i,team in enumerate(TeamList):\n",
    "    NumberOfWins.append(0)\n",
    "    NumberOfMatches.append(0)"
   ]
  },
  {
   "cell_type": "code",
   "execution_count": 84,
   "metadata": {},
   "outputs": [
    {
     "data": {
      "text/plain": [
       "166"
      ]
     },
     "execution_count": 84,
     "metadata": {},
     "output_type": "execute_result"
    }
   ],
   "source": [
    "len(TeamList)"
   ]
  },
  {
   "cell_type": "code",
   "execution_count": 85,
   "metadata": {
    "collapsed": true
   },
   "outputs": [],
   "source": [
    "X_train = []\n",
    "X_test = []\n",
    "Y_train = []\n",
    "Y_test = []"
   ]
  },
  {
   "cell_type": "code",
   "execution_count": 86,
   "metadata": {},
   "outputs": [],
   "source": [
    "#Skip first 100 games\n",
    "for i,game in enumerate(GameList[:100]):\n",
    "    htindex = TeamList.index(game['HomeTeam'])\n",
    "    vtindex = TeamList.index(game['VisitTeam'])\n",
    "    NumberOfMatches[htindex] = NumberOfMatches[htindex] + 1\n",
    "    NumberOfMatches[vtindex] = NumberOfMatches[vtindex] + 1\n",
    "    if(game['HT-Points'] >= game['VT-Points']):\n",
    "        NumberOfWins[htindex] = NumberOfWins[htindex] + 1\n",
    "    else:\n",
    "        NumberOfWins[vtindex] = NumberOfWins[vtindex] + 1        \n",
    "    "
   ]
  },
  {
   "cell_type": "code",
   "execution_count": 87,
   "metadata": {},
   "outputs": [],
   "source": [
    "for i,game in enumerate(GameList[100:]):\n",
    "    temp = []\n",
    "   # print(i)\n",
    "    #print(game)\n",
    "    htindex = TeamList.index(game['HomeTeam'])\n",
    "    vtindex = TeamList.index(game['VisitTeam'])\n",
    "    if(NumberOfMatches[htindex] > 0):\n",
    "        temp.append(NumberOfWins[htindex]/NumberOfMatches[htindex])\n",
    "    else:\n",
    "        temp.append(0.0)\n",
    "    if(NumberOfMatches[vtindex] > 0):\n",
    "        temp.append(NumberOfWins[vtindex]/NumberOfMatches[vtindex])\n",
    "    else:\n",
    "        temp.append(0.0)\n",
    "    X_train.append(temp)\n",
    "    if(game['HT-Points'] >= game['VT-Points']):\n",
    "        Y_train.append(1)\n",
    "    else:\n",
    "        Y_train.append(0)"
   ]
  },
  {
   "cell_type": "code",
   "execution_count": 88,
   "metadata": {},
   "outputs": [
    {
     "data": {
      "text/plain": [
       "618"
      ]
     },
     "execution_count": 88,
     "metadata": {},
     "output_type": "execute_result"
    }
   ],
   "source": [
    "len(X_train)"
   ]
  },
  {
   "cell_type": "code",
   "execution_count": 89,
   "metadata": {},
   "outputs": [
    {
     "data": {
      "text/plain": [
       "1"
      ]
     },
     "execution_count": 89,
     "metadata": {},
     "output_type": "execute_result"
    }
   ],
   "source": [
    "Y_train[100]"
   ]
  },
  {
   "cell_type": "code",
   "execution_count": null,
   "metadata": {
    "collapsed": true
   },
   "outputs": [],
   "source": []
  }
 ],
 "metadata": {
  "kernelspec": {
   "display_name": "Python 3",
   "language": "python",
   "name": "python3"
  },
  "language_info": {
   "codemirror_mode": {
    "name": "ipython",
    "version": 3
   },
   "file_extension": ".py",
   "mimetype": "text/x-python",
   "name": "python",
   "nbconvert_exporter": "python",
   "pygments_lexer": "ipython3",
   "version": "3.6.4"
  }
 },
 "nbformat": 4,
 "nbformat_minor": 2
}
