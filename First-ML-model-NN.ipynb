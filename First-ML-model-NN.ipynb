{
 "cells": [
  {
   "cell_type": "code",
   "execution_count": 40,
   "metadata": {},
   "outputs": [],
   "source": [
    "import csv\n",
    "import numpy as np\n",
    "from sklearn.metrics import log_loss\n",
    "import torch\n",
    "from torch import autograd,nn, optim\n",
    "import torch.nn.functional as F\n",
    "from datetime import datetime\n",
    "\n",
    "pathToData = \"data/\""
   ]
  },
  {
   "cell_type": "code",
   "execution_count": 41,
   "metadata": {},
   "outputs": [],
   "source": [
    "\n",
    "\n",
    "def try_parsing_date(text):\n",
    "    for fmt in ('%m-%d-%Y', '%m.%d.%Y', '%m/%d/%Y'):\n",
    "        try:\n",
    "            return datetime.strptime(text, fmt)\n",
    "        except ValueError:\n",
    "            pass\n",
    "    raise ValueError('no valid date format found')\n",
    "    \n",
    "#with open('data-2005/team-game-statistics.csv', 'r') as f:\n",
    " # reader = csv.reader(f)\n",
    "  #TeamGameStatistics = list(reader)"
   ]
  },
  {
   "cell_type": "code",
   "execution_count": 42,
   "metadata": {},
   "outputs": [],
   "source": [
    "def ReadDataForASeason(year):\n",
    "    with open(pathToData + str(year) +'/game.csv', 'r') as f:\n",
    "        reader = csv.reader(f)\n",
    "        Game = list(reader)\n",
    "        Game = Game[1:]\n",
    "\n",
    "    with open(pathToData + str(year) + '/game-statistics.csv', 'r') as f:\n",
    "        reader = csv.reader(f)\n",
    "        GameStatistics = list(reader)\n",
    "        GameStatistics = GameStatistics[1:]\n",
    "    \n",
    "    with open(pathToData + str(year) + '/team-game-statistics.csv', 'r') as f:\n",
    "        reader = csv.reader(f)\n",
    "        TeamGameStatistics = list(reader)\n",
    "        TeamGameStatistics = TeamGameStatistics[1:]\n",
    "        \n",
    "    with open(pathToData + str(year) + '/conference.csv', 'r') as f:\n",
    "        reader = csv.reader(f)\n",
    "        Conference = list(reader)\n",
    "        Conference = Conference[1:]\n",
    "        \n",
    "    with open(pathToData + str(year) + '/drive.csv', 'r') as f:\n",
    "        reader = csv.reader(f)\n",
    "        Drive = list(reader)\n",
    "        Drive = Drive[1:]\n",
    "                \n",
    "    with open(pathToData + str(year) + '/kickoff.csv', 'r') as f:\n",
    "        reader = csv.reader(f)\n",
    "        Kickoff = list(reader)\n",
    "        Kickoff = Kickoff[1:]\n",
    "                \n",
    "    with open(pathToData + str(year) + '/kickoff-return.csv', 'r') as f:\n",
    "        reader = csv.reader(f)\n",
    "        KickoffReturn = list(reader)\n",
    "        KickoffReturn = KickoffReturn[1:]\n",
    "                \n",
    "    with open(pathToData + str(year) + '/pass.csv', 'r') as f:\n",
    "        reader = csv.reader(f)\n",
    "        Pass = list(reader)\n",
    "        Pass = Pass[1:]\n",
    "                \n",
    "    with open(pathToData + str(year) + '/play.csv', 'r') as f:\n",
    "        reader = csv.reader(f)\n",
    "        Play = list(reader)\n",
    "        Play = Play[1:]\n",
    "                \n",
    "    with open(pathToData + str(year) + '/player.csv', 'r') as f:\n",
    "        reader = csv.reader(f)\n",
    "        Player = list(reader)\n",
    "        Player = Player[1:]\n",
    "                \n",
    "    with open(pathToData + str(year) + '/player-game-statistics.csv', 'r') as f:\n",
    "        reader = csv.reader(f)\n",
    "        PlayerGameStatistics = list(reader)\n",
    "        PlayerGameStatistics = PlayerGameStatistics[1:]\n",
    "                \n",
    "    with open(pathToData + str(year) + '/punt.csv', 'r') as f:\n",
    "        reader = csv.reader(f)\n",
    "        Punt = list(reader)\n",
    "        Punt = Punt[1:]\n",
    "                \n",
    "    with open(pathToData + str(year) + '/punt-return.csv', 'r') as f:\n",
    "        reader = csv.reader(f)\n",
    "        PuntReturn = list(reader)\n",
    "        PuntReturn = PuntReturn[1:]\n",
    "                \n",
    "    with open(pathToData + str(year) + '/reception.csv', 'r') as f:\n",
    "        reader = csv.reader(f)\n",
    "        Reception = list(reader)\n",
    "        Reception = Reception[1:]\n",
    "                \n",
    "    with open(pathToData + str(year) + '/rush.csv', 'r') as f:\n",
    "        reader = csv.reader(f)\n",
    "        Rush = list(reader)\n",
    "        Rush = Rush[1:]\n",
    "                \n",
    "    with open(pathToData + str(year) + '/stadium.csv', 'r') as f:\n",
    "        reader = csv.reader(f)\n",
    "        Stadium = list(reader)\n",
    "        Stadium = Stadium[1:]\n",
    "        Stadium = sorted(Stadium, key=lambda x: x[0])\n",
    "                \n",
    "    with open(pathToData + str(year) + '/team.csv', 'r') as f:\n",
    "        reader = csv.reader(f)\n",
    "        Team = list(reader)\n",
    "        Team = Team[1:]\n",
    "        \n",
    "    return (Game,GameStatistics,TeamGameStatistics)"
   ]
  },
  {
   "cell_type": "code",
   "execution_count": 43,
   "metadata": {},
   "outputs": [],
   "source": [
    "Stadium = sorted(Stadium, key=lambda x: float(x[0]))"
   ]
  },
  {
   "cell_type": "code",
   "execution_count": null,
   "metadata": {},
   "outputs": [],
   "source": []
  },
  {
   "cell_type": "code",
   "execution_count": 45,
   "metadata": {},
   "outputs": [],
   "source": [
    "#print(Game[100][1])\n",
    "#date1 = try_parsing_date(Game[2][1])\n",
    "#date2 = try_parsing_date(Game[100][1])\n",
    "\n",
    "#if date1 < date2:\n",
    "#    print(date1)\n",
    "\n",
    "#print(date2)\n",
    "\n",
    "#for i in range(len(Game)):\n",
    "#    Game[i][1] = try_parsing_date(Game[i][1])\n",
    "\n",
    "#Game[150][1]"
   ]
  },
  {
   "cell_type": "code",
   "execution_count": 46,
   "metadata": {},
   "outputs": [],
   "source": [
    "#Assuming no anomolies in game data in TEAMGAMESTATS correspnoding to games in GAME\n",
    "#Add fields from TEAMSGAMESTATS in this function\n",
    "def getTeamGameStatsByID(GameID, TeamGameStatistics, HomeTeam, VisitTeam):\n",
    "    count = 0\n",
    "    for i,gamestats in enumerate(TeamGameStatistics):\n",
    "        if(gamestats[1] == GameID):\n",
    "            if(gamestats[0] == HomeTeam):\n",
    "                HomeTeamStats = gamestats\n",
    "            else:\n",
    "                VisitTeamStats = gamestats\n",
    "            count = count + 1\n",
    "        if(count == 2):\n",
    "            return(HomeTeamStats,VisitTeamStats)\n",
    "    print(\"Loop ended without returning! :( \")"
   ]
  },
  {
   "cell_type": "code",
   "execution_count": 47,
   "metadata": {},
   "outputs": [
    {
     "data": {
      "text/plain": [
       "{'Attendance': '93986',\n",
       " 'Date': datetime.datetime(2006, 1, 4, 0, 0),\n",
       " 'Duration': '239',\n",
       " 'GameID': '0703065720060104',\n",
       " 'HTStats': ['657',\n",
       "  '0703065720060104',\n",
       "  '41',\n",
       "  '209',\n",
       "  '4',\n",
       "  '41',\n",
       "  '29',\n",
       "  '365',\n",
       "  '1',\n",
       "  '1',\n",
       "  '0',\n",
       "  '7',\n",
       "  '130',\n",
       "  '0',\n",
       "  '0',\n",
       "  '0',\n",
       "  '0',\n",
       "  '0',\n",
       "  '0',\n",
       "  '0',\n",
       "  '0',\n",
       "  '0',\n",
       "  '0',\n",
       "  '0',\n",
       "  '0',\n",
       "  '0',\n",
       "  '1',\n",
       "  '1',\n",
       "  '5',\n",
       "  '5',\n",
       "  '0',\n",
       "  '0',\n",
       "  '0',\n",
       "  '0',\n",
       "  '0',\n",
       "  '38',\n",
       "  '2',\n",
       "  '83',\n",
       "  '7',\n",
       "  '369',\n",
       "  '3',\n",
       "  '0',\n",
       "  '0',\n",
       "  '1',\n",
       "  '1',\n",
       "  '38',\n",
       "  '20',\n",
       "  '3.0',\n",
       "  '4',\n",
       "  '0.0',\n",
       "  '0',\n",
       "  '0',\n",
       "  '2',\n",
       "  '4',\n",
       "  '0',\n",
       "  '12',\n",
       "  '15',\n",
       "  '3',\n",
       "  '1920',\n",
       "  '5',\n",
       "  '30',\n",
       "  '14',\n",
       "  '8',\n",
       "  '3',\n",
       "  '1',\n",
       "  '5',\n",
       "  '3',\n",
       "  '1'],\n",
       " 'HomeTeam': 657,\n",
       " 'StadiumCap': '91136',\n",
       " 'VTStats': ['703',\n",
       "  '0703065720060104',\n",
       "  '36',\n",
       "  '289',\n",
       "  '5',\n",
       "  '40',\n",
       "  '30',\n",
       "  '267',\n",
       "  '0',\n",
       "  '0',\n",
       "  '0',\n",
       "  '1',\n",
       "  '29',\n",
       "  '0',\n",
       "  '2',\n",
       "  '19',\n",
       "  '0',\n",
       "  '0',\n",
       "  '0',\n",
       "  '0',\n",
       "  '1',\n",
       "  '0',\n",
       "  '0',\n",
       "  '0',\n",
       "  '0',\n",
       "  '0',\n",
       "  '3',\n",
       "  '2',\n",
       "  '4',\n",
       "  '3',\n",
       "  '1',\n",
       "  '1',\n",
       "  '0',\n",
       "  '0',\n",
       "  '0',\n",
       "  '41',\n",
       "  '2',\n",
       "  '68',\n",
       "  '8',\n",
       "  '467',\n",
       "  '1',\n",
       "  '0',\n",
       "  '0',\n",
       "  '4',\n",
       "  '1',\n",
       "  '55',\n",
       "  '22',\n",
       "  '4.0',\n",
       "  '14',\n",
       "  '1.0',\n",
       "  '7',\n",
       "  '0',\n",
       "  '1',\n",
       "  '4',\n",
       "  '0',\n",
       "  '15',\n",
       "  '14',\n",
       "  '1',\n",
       "  '1680',\n",
       "  '4',\n",
       "  '34',\n",
       "  '11',\n",
       "  '3',\n",
       "  '2',\n",
       "  '1',\n",
       "  '6',\n",
       "  '3',\n",
       "  '2'],\n",
       " 'VisitTeam': 703}"
      ]
     },
     "execution_count": 47,
     "metadata": {},
     "output_type": "execute_result"
    }
   ],
   "source": [
    "def getNextGameStats(singleGame, singleGameStatistics, TeamGameStatistics, Stadium):\n",
    "    newGame = {}\n",
    "    #newGame['Date'] = try_parsing_date(singleGame[1])\n",
    "    newGame['Date'] = singleGame[1]\n",
    "    newGame['GameID'] = singleGame[0]\n",
    "    newGame['Attendance'] = singleGameStatistics[1]\n",
    "    #print(GameStatistics[2])\n",
    "    newGame['Duration'] = singleGameStatistics[2]\n",
    "    newGame['HomeTeam'] = int(singleGame[3])\n",
    "    newGame['VisitTeam'] = int(singleGame[2])\n",
    "    HomeTeamStats, VisitTeamStats = getTeamGameStatsByID(singleGame[0],TeamGameStatistics,singleGame[3],singleGame[2])\n",
    "    #newGame['HTStats'] = HomeTeamStats\n",
    "    #newGame['VTStats'] = VisitTeamStats\n",
    "    newGame['HTStats'] = list(map(float,HomeTeamStats))\n",
    "    newGame['VTStats'] = list(map(float,VisitTeamStats))\n",
    "    newGame['Capacity'] = Stadium[int(singleGame[4])-1][4]\n",
    "    #GameList.append(newGame)\n",
    "    return newGame\n",
    "\n",
    "listOfDictionaries(Game[i], GameStatistics[i], TeamGameStatistics, Stadium)"
   ]
  },
  {
   "cell_type": "code",
   "execution_count": 48,
   "metadata": {},
   "outputs": [],
   "source": [
    "def prepareGameAndTeamList(year):\n",
    "    Game, GameStatistics, TeamGameStatistics, Stadium = ReadDataForASeason(year)\n",
    "    GameList = [] #List of dictionaries, based on sorted order of games\n",
    "    TeamList = [] #List of Teams in sorted order of Team codes\n",
    "    count = 0\n",
    "    for i in range(len(Game)):\n",
    "        GameList.append(getNextGameStats(Game[i], GameStatistics[i], TeamGameStatistics,Stadium))\n",
    "        #GameList\n",
    "        if(GameList[i]['HomeTeam'] in TeamList):\n",
    "            count = 1\n",
    "        else:\n",
    "            TeamList.append(GameList[i]['HomeTeam'])\n",
    "        if(GameList[i]['VisitTeam'] in TeamList):\n",
    "            count = 1\n",
    "        else:\n",
    "            TeamList.append(GameList[i]['VisitTeam'])\n",
    "        \n",
    "    TeamList.sort()\n",
    "    return GameList, TeamList"
   ]
  },
  {
   "cell_type": "code",
   "execution_count": 49,
   "metadata": {},
   "outputs": [],
   "source": [
    "#GameList[6]"
   ]
  },
  {
   "cell_type": "code",
   "execution_count": 51,
   "metadata": {},
   "outputs": [],
   "source": [
    "def getFeatures(year):\n",
    "    \n",
    "    GameList, TeamList = prepareGameAndTeamList(year)\n",
    "        #Initializing for each team\n",
    "    NumberOfWins = np.zeros(len(TeamList))\n",
    "    NumberOfMatches = np.zeros(len(TeamList))\n",
    "    PointDifference = np.zeros(len(TeamList))\n",
    "    \n",
    "    #Skip first 100 games\n",
    "    gamecount = 0\n",
    "    for i,game in enumerate(GameList[:100]):\n",
    "        gamecount = gamecount + 1\n",
    "        htindex = TeamList.index(game['HomeTeam'])\n",
    "        vtindex = TeamList.index(game['VisitTeam'])\n",
    "        NumberOfMatches[htindex] = NumberOfMatches[htindex] + 1\n",
    "        NumberOfMatches[vtindex] = NumberOfMatches[vtindex] + 1\n",
    "        point_difference = game['HT-Points'] - game['VT-Points']\n",
    "        PointDifference[htindex] += point_difference\n",
    "        PointDifference[vtindex] -= point_difference \n",
    "        if(game['HT-Points'] >= game['VT-Points']):\n",
    "            NumberOfWins[htindex] = NumberOfWins[htindex] + 1\n",
    "        else:\n",
    "            NumberOfWins[vtindex] = NumberOfWins[vtindex] + 1       \n",
    "            \n",
    "    #win ratios of home team, win ratio of visit team\n",
    "    X_train = []\n",
    "    X_test = []\n",
    "    #1 if home team wins, zero otherwise\n",
    "    Y_train = []\n",
    "    Y_test = []\n",
    "    \n",
    "    #debug print\n",
    "    for i,team in enumerate(TeamList):\n",
    "        if(NumberOfMatches[i] < NumberOfWins[i]):\n",
    "            print(\"Matches: \", NumberOfMatches[i], \" Wins: \", NumberOfWins[i])\n",
    "        \n",
    "    gamecount = 0\n",
    "    for i,game in enumerate(GameList[100:]):\n",
    "        temp = []\n",
    "        gamecount = gamecount + 1\n",
    "        print(\"For \",i,\": \")\n",
    "        #print(game)\n",
    "        htindex = TeamList.index(game['HomeTeam'])\n",
    "        vtindex = TeamList.index(game['VisitTeam'])\n",
    "        print(NumberOfWins[htindex])\n",
    "        print(NumberOfMatches[htindex])\n",
    "        print(NumberOfWins[vtindex])\n",
    "        print(NumberOfMatches[vtindex])\n",
    "        if(NumberOfMatches[htindex] > 0):\n",
    "            temp.append(NumberOfWins[htindex]/NumberOfMatches[htindex])\n",
    "        else:\n",
    "            temp.append(0.0)\n",
    "        if(NumberOfMatches[vtindex] > 0):\n",
    "            temp.append(NumberOfWins[vtindex]/NumberOfMatches[vtindex])\n",
    "        else:\n",
    "            temp.append(0.0)\n",
    "        temp.append(PointDifference[htindex])\n",
    "        temp.append(PointDifference[vtindex])\n",
    "        X_train.append(temp)\n",
    "        if(game['HT-Points'] >= game['VT-Points']):\n",
    "            Y_train.append(1)\n",
    "            NumberOfWins[htindex] = NumberOfWins[htindex] + 1\n",
    "        else:\n",
    "            Y_train.append(0)\n",
    "            NumberOfWins[vtindex] = NumberOfWins[vtindex] + 1\n",
    "        point_difference = game['HT-Points'] - game['VT-Points']\n",
    "        PointDifference[htindex] += point_difference\n",
    "        PointDifference[vtindex] -= point_difference \n",
    "        NumberOfMatches[vtindex] = NumberOfMatches[vtindex] + 1\n",
    "        NumberOfMatches[htindex] = NumberOfMatches[htindex] + 1\n",
    "        \n",
    "    return X_train, Y_train "
   ]
  },
  {
   "cell_type": "code",
   "execution_count": 52,
   "metadata": {},
   "outputs": [],
   "source": [
    "\n",
    "def createTrainingData(SeasonList):\n",
    "    X_train = []\n",
    "    Y_train = []\n",
    "    \n",
    "    for year in SeasonList:\n",
    "        x, y = getFeatures(year)\n",
    "        X_train.append(x)\n",
    "        Y_train.append(y)\n",
    "        \n",
    "    return X_train, Y_train\n",
    "        "
   ]
  },
  {
   "cell_type": "code",
   "execution_count": 53,
   "metadata": {},
   "outputs": [
    {
     "ename": "ValueError",
     "evalue": "not enough values to unpack (expected 4, got 3)",
     "output_type": "error",
     "traceback": [
      "\u001b[1;31m---------------------------------------------------------------------------\u001b[0m",
      "\u001b[1;31mValueError\u001b[0m                                Traceback (most recent call last)",
      "\u001b[1;32m<ipython-input-53-e01503f6a80f>\u001b[0m in \u001b[0;36m<module>\u001b[1;34m()\u001b[0m\n\u001b[0;32m      1\u001b[0m \u001b[0mSeasonList\u001b[0m \u001b[1;33m=\u001b[0m \u001b[1;33m[\u001b[0m\u001b[1;36m2005\u001b[0m\u001b[1;33m]\u001b[0m\u001b[1;33m\u001b[0m\u001b[0m\n\u001b[0;32m      2\u001b[0m \u001b[1;33m\u001b[0m\u001b[0m\n\u001b[1;32m----> 3\u001b[1;33m \u001b[0mX_TRAIN\u001b[0m\u001b[1;33m,\u001b[0m \u001b[0mY_TRAIN\u001b[0m \u001b[1;33m=\u001b[0m \u001b[0mcreateTrainingData\u001b[0m\u001b[1;33m(\u001b[0m\u001b[0mSeasonList\u001b[0m\u001b[1;33m)\u001b[0m\u001b[1;33m\u001b[0m\u001b[0m\n\u001b[0m",
      "\u001b[1;32m<ipython-input-52-88d948f58b2a>\u001b[0m in \u001b[0;36mcreateTrainingData\u001b[1;34m(SeasonList)\u001b[0m\n\u001b[0;32m      5\u001b[0m \u001b[1;33m\u001b[0m\u001b[0m\n\u001b[0;32m      6\u001b[0m     \u001b[1;32mfor\u001b[0m \u001b[0myear\u001b[0m \u001b[1;32min\u001b[0m \u001b[0mSeasonList\u001b[0m\u001b[1;33m:\u001b[0m\u001b[1;33m\u001b[0m\u001b[0m\n\u001b[1;32m----> 7\u001b[1;33m         \u001b[0mx\u001b[0m\u001b[1;33m,\u001b[0m \u001b[0my\u001b[0m \u001b[1;33m=\u001b[0m \u001b[0mgetFeatures\u001b[0m\u001b[1;33m(\u001b[0m\u001b[0myear\u001b[0m\u001b[1;33m)\u001b[0m\u001b[1;33m\u001b[0m\u001b[0m\n\u001b[0m\u001b[0;32m      8\u001b[0m         \u001b[0mX_train\u001b[0m\u001b[1;33m.\u001b[0m\u001b[0mappend\u001b[0m\u001b[1;33m(\u001b[0m\u001b[0mx\u001b[0m\u001b[1;33m)\u001b[0m\u001b[1;33m\u001b[0m\u001b[0m\n\u001b[0;32m      9\u001b[0m         \u001b[0mY_train\u001b[0m\u001b[1;33m.\u001b[0m\u001b[0mappend\u001b[0m\u001b[1;33m(\u001b[0m\u001b[0my\u001b[0m\u001b[1;33m)\u001b[0m\u001b[1;33m\u001b[0m\u001b[0m\n",
      "\u001b[1;32m<ipython-input-51-4c45c70ea150>\u001b[0m in \u001b[0;36mgetFeatures\u001b[1;34m(year)\u001b[0m\n\u001b[0;32m      1\u001b[0m \u001b[1;32mdef\u001b[0m \u001b[0mgetFeatures\u001b[0m\u001b[1;33m(\u001b[0m\u001b[0myear\u001b[0m\u001b[1;33m)\u001b[0m\u001b[1;33m:\u001b[0m\u001b[1;33m\u001b[0m\u001b[0m\n\u001b[0;32m      2\u001b[0m \u001b[1;33m\u001b[0m\u001b[0m\n\u001b[1;32m----> 3\u001b[1;33m     \u001b[0mGameList\u001b[0m\u001b[1;33m,\u001b[0m \u001b[0mTeamList\u001b[0m \u001b[1;33m=\u001b[0m \u001b[0mprepareGameAndTeamList\u001b[0m\u001b[1;33m(\u001b[0m\u001b[0myear\u001b[0m\u001b[1;33m)\u001b[0m\u001b[1;33m\u001b[0m\u001b[0m\n\u001b[0m\u001b[0;32m      4\u001b[0m         \u001b[1;31m#Initializing for each team\u001b[0m\u001b[1;33m\u001b[0m\u001b[1;33m\u001b[0m\u001b[0m\n\u001b[0;32m      5\u001b[0m     \u001b[0mNumberOfWins\u001b[0m \u001b[1;33m=\u001b[0m \u001b[0mnp\u001b[0m\u001b[1;33m.\u001b[0m\u001b[0mzeros\u001b[0m\u001b[1;33m(\u001b[0m\u001b[0mlen\u001b[0m\u001b[1;33m(\u001b[0m\u001b[0mTeamList\u001b[0m\u001b[1;33m)\u001b[0m\u001b[1;33m)\u001b[0m\u001b[1;33m\u001b[0m\u001b[0m\n",
      "\u001b[1;32m<ipython-input-48-9ca698f1df41>\u001b[0m in \u001b[0;36mprepareGameAndTeamList\u001b[1;34m(year)\u001b[0m\n\u001b[0;32m      1\u001b[0m \u001b[1;32mdef\u001b[0m \u001b[0mprepareGameAndTeamList\u001b[0m\u001b[1;33m(\u001b[0m\u001b[0myear\u001b[0m\u001b[1;33m)\u001b[0m\u001b[1;33m:\u001b[0m\u001b[1;33m\u001b[0m\u001b[0m\n\u001b[1;32m----> 2\u001b[1;33m     \u001b[0mGame\u001b[0m\u001b[1;33m,\u001b[0m \u001b[0mGameStatistics\u001b[0m\u001b[1;33m,\u001b[0m \u001b[0mTeamGameStatistics\u001b[0m\u001b[1;33m,\u001b[0m \u001b[0mStadium\u001b[0m \u001b[1;33m=\u001b[0m \u001b[0mReadDataForASeason\u001b[0m\u001b[1;33m(\u001b[0m\u001b[0myear\u001b[0m\u001b[1;33m)\u001b[0m\u001b[1;33m\u001b[0m\u001b[0m\n\u001b[0m\u001b[0;32m      3\u001b[0m     \u001b[0mGameList\u001b[0m \u001b[1;33m=\u001b[0m \u001b[1;33m[\u001b[0m\u001b[1;33m]\u001b[0m \u001b[1;31m#List of dictionaries, based on sorted order of games\u001b[0m\u001b[1;33m\u001b[0m\u001b[0m\n\u001b[0;32m      4\u001b[0m     \u001b[0mTeamList\u001b[0m \u001b[1;33m=\u001b[0m \u001b[1;33m[\u001b[0m\u001b[1;33m]\u001b[0m \u001b[1;31m#List of Teams in sorted order of Team codes\u001b[0m\u001b[1;33m\u001b[0m\u001b[0m\n\u001b[0;32m      5\u001b[0m     \u001b[0mcount\u001b[0m \u001b[1;33m=\u001b[0m \u001b[1;36m0\u001b[0m\u001b[1;33m\u001b[0m\u001b[0m\n",
      "\u001b[1;31mValueError\u001b[0m: not enough values to unpack (expected 4, got 3)"
     ]
    }
   ],
   "source": [
    "SeasonList = [2005]\n",
    "\n",
    "X_TRAIN, Y_TRAIN = createTrainingData(SeasonList)"
   ]
  },
  {
   "cell_type": "code",
   "execution_count": null,
   "metadata": {},
   "outputs": [],
   "source": []
  },
  {
   "cell_type": "code",
   "execution_count": null,
   "metadata": {},
   "outputs": [],
   "source": []
  },
  {
   "cell_type": "code",
   "execution_count": null,
   "metadata": {},
   "outputs": [],
   "source": []
  },
  {
   "cell_type": "code",
   "execution_count": null,
   "metadata": {},
   "outputs": [],
   "source": [
    "X_train[500]"
   ]
  },
  {
   "cell_type": "code",
   "execution_count": 9,
   "metadata": {},
   "outputs": [
    {
     "ename": "NameError",
     "evalue": "name 'Y_train' is not defined",
     "output_type": "error",
     "traceback": [
      "\u001b[1;31m---------------------------------------------------------------------------\u001b[0m",
      "\u001b[1;31mNameError\u001b[0m                                 Traceback (most recent call last)",
      "\u001b[1;32m<ipython-input-9-e71557dcc4ed>\u001b[0m in \u001b[0;36m<module>\u001b[1;34m()\u001b[0m\n\u001b[1;32m----> 1\u001b[1;33m \u001b[0mY_train\u001b[0m\u001b[1;33m[\u001b[0m\u001b[1;36m500\u001b[0m\u001b[1;33m]\u001b[0m\u001b[1;33m\u001b[0m\u001b[0m\n\u001b[0m",
      "\u001b[1;31mNameError\u001b[0m: name 'Y_train' is not defined"
     ]
    }
   ],
   "source": [
    "Y_train[500]"
   ]
  },
  {
   "cell_type": "code",
   "execution_count": 462,
   "metadata": {
    "collapsed": true
   },
   "outputs": [],
   "source": [
    "X_test = X_train[400:]\n",
    "X_train = X_train[:400]\n",
    "Y_test = Y_train[400:]\n",
    "Y_train = Y_train[:400]"
   ]
  },
  {
   "cell_type": "code",
   "execution_count": 463,
   "metadata": {},
   "outputs": [],
   "source": [
    "batch_size = gamecount\n",
    "input_size = 4\n",
    "hidden_size = 200\n",
    "num_classes = 1\n",
    "learning_rate = 0.001\n",
    "\n",
    "#input = autograd.Variable(torch.rand(batch_size,input_size)\n",
    "input = autograd.Variable(torch.Tensor(X_train))\n",
    "\n",
    "#input[0][1] = 2\n",
    "target = autograd.Variable(torch.Tensor(Y_train).long())"
   ]
  },
  {
   "cell_type": "code",
   "execution_count": 464,
   "metadata": {},
   "outputs": [
    {
     "name": "stdout",
     "output_type": "stream",
     "text": [
      "[1.0, 1.0, 35, 9]\n",
      "Variable containing:\n",
      "  1\n",
      "  1\n",
      " 35\n",
      "  9\n",
      "[torch.FloatTensor of size 4]\n",
      "\n",
      "Variable containing:\n",
      " 1\n",
      "[torch.LongTensor of size 1]\n",
      "\n",
      "1\n"
     ]
    }
   ],
   "source": [
    "i = 0\n",
    "print(X_train[i])\n",
    "print(input[i])\n",
    "print(target[i])\n",
    "print(Y_train[i])"
   ]
  },
  {
   "cell_type": "code",
   "execution_count": 465,
   "metadata": {},
   "outputs": [
    {
     "data": {
      "text/plain": [
       "218"
      ]
     },
     "execution_count": 465,
     "metadata": {},
     "output_type": "execute_result"
    }
   ],
   "source": [
    "len(Y_test)"
   ]
  },
  {
   "cell_type": "code",
   "execution_count": 466,
   "metadata": {},
   "outputs": [
    {
     "data": {
      "text/plain": [
       "400"
      ]
     },
     "execution_count": 466,
     "metadata": {},
     "output_type": "execute_result"
    }
   ],
   "source": [
    "len(Y_train)"
   ]
  },
  {
   "cell_type": "code",
   "execution_count": 467,
   "metadata": {},
   "outputs": [
    {
     "data": {
      "text/plain": [
       "400"
      ]
     },
     "execution_count": 467,
     "metadata": {},
     "output_type": "execute_result"
    }
   ],
   "source": [
    "len(X_train)"
   ]
  },
  {
   "cell_type": "code",
   "execution_count": 468,
   "metadata": {},
   "outputs": [
    {
     "data": {
      "text/plain": [
       "218"
      ]
     },
     "execution_count": 468,
     "metadata": {},
     "output_type": "execute_result"
    }
   ],
   "source": [
    "len(X_test)"
   ]
  },
  {
   "cell_type": "code",
   "execution_count": null,
   "metadata": {
    "collapsed": true
   },
   "outputs": [],
   "source": []
  },
  {
   "cell_type": "code",
   "execution_count": 469,
   "metadata": {
    "collapsed": true
   },
   "outputs": [],
   "source": [
    "class Net(nn.Module):\n",
    "    def __init__(self, input_size, hidden_size,num_classes):\n",
    "        super().__init__()\n",
    "        #create hidden layers and assign it to self\n",
    "        self.h1 = nn.Linear(input_size,hidden_size)\n",
    "        self.h2 = nn.Linear(hidden_size,num_classes)\n",
    "    def forward(self,x):\n",
    "        #run forward propogation\n",
    "        x = self.h1(x)\n",
    "        x = F.tanh(x)\n",
    "        x = self.h2(x)\n",
    "        x = F.sigmoid(x)\n",
    "        return x"
   ]
  },
  {
   "cell_type": "code",
   "execution_count": 470,
   "metadata": {
    "collapsed": true
   },
   "outputs": [],
   "source": [
    "model = Net(input_size = input_size, hidden_size = hidden_size, num_classes = num_classes)\n",
    "opt = optim.Adam(params=model.parameters(),lr = learning_rate)"
   ]
  },
  {
   "cell_type": "code",
   "execution_count": 471,
   "metadata": {},
   "outputs": [
    {
     "data": {
      "text/plain": [
       "torch.Size([400, 2])"
      ]
     },
     "execution_count": 471,
     "metadata": {},
     "output_type": "execute_result"
    }
   ],
   "source": [
    "out.size()"
   ]
  },
  {
   "cell_type": "code",
   "execution_count": 520,
   "metadata": {},
   "outputs": [
    {
     "ename": "RuntimeError",
     "evalue": "Assertion `cur_target >= 0 && cur_target < n_classes' failed.  at c:\\anaconda2\\conda-bld\\pytorch_1519501749874\\work\\torch\\lib\\thnn\\generic/ClassNLLCriterion.c:87",
     "output_type": "error",
     "traceback": [
      "\u001b[1;31m---------------------------------------------------------------------------\u001b[0m",
      "\u001b[1;31mRuntimeError\u001b[0m                              Traceback (most recent call last)",
      "\u001b[1;32m<ipython-input-520-48445de35bf2>\u001b[0m in \u001b[0;36m<module>\u001b[1;34m()\u001b[0m\n\u001b[0;32m      5\u001b[0m    \u001b[1;31m# print(\"Pred: \", str(pred.view(1,-1)).split('\\n')[1])\u001b[0m\u001b[1;33m\u001b[0m\u001b[1;33m\u001b[0m\u001b[0m\n\u001b[0;32m      6\u001b[0m     \u001b[1;31m#loss = F.binary_cross_entropy(out,target.float())\u001b[0m\u001b[1;33m\u001b[0m\u001b[1;33m\u001b[0m\u001b[0m\n\u001b[1;32m----> 7\u001b[1;33m     \u001b[0mloss\u001b[0m \u001b[1;33m=\u001b[0m \u001b[0mF\u001b[0m\u001b[1;33m.\u001b[0m\u001b[0mnll_loss\u001b[0m\u001b[1;33m(\u001b[0m\u001b[0mout\u001b[0m\u001b[1;33m,\u001b[0m\u001b[0mtarget\u001b[0m\u001b[1;33m)\u001b[0m\u001b[1;33m\u001b[0m\u001b[0m\n\u001b[0m\u001b[0;32m      8\u001b[0m     \u001b[0mprint\u001b[0m\u001b[1;33m(\u001b[0m\u001b[1;34m\"Loss: \"\u001b[0m\u001b[1;33m,\u001b[0m\u001b[0mloss\u001b[0m\u001b[1;33m.\u001b[0m\u001b[0mdata\u001b[0m\u001b[1;33m[\u001b[0m\u001b[1;36m0\u001b[0m\u001b[1;33m]\u001b[0m\u001b[1;33m)\u001b[0m\u001b[1;33m\u001b[0m\u001b[0m\n\u001b[0;32m      9\u001b[0m     \u001b[0mmodel\u001b[0m\u001b[1;33m.\u001b[0m\u001b[0mzero_grad\u001b[0m\u001b[1;33m(\u001b[0m\u001b[1;33m)\u001b[0m\u001b[1;33m\u001b[0m\u001b[0m\n",
      "\u001b[1;32m~\\Anaconda3\\lib\\site-packages\\torch\\nn\\functional.py\u001b[0m in \u001b[0;36mnll_loss\u001b[1;34m(input, target, weight, size_average, ignore_index, reduce)\u001b[0m\n\u001b[0;32m   1050\u001b[0m         \u001b[0mweight\u001b[0m \u001b[1;33m=\u001b[0m \u001b[0mVariable\u001b[0m\u001b[1;33m(\u001b[0m\u001b[0mweight\u001b[0m\u001b[1;33m)\u001b[0m\u001b[1;33m\u001b[0m\u001b[0m\n\u001b[0;32m   1051\u001b[0m     \u001b[1;32mif\u001b[0m \u001b[0mdim\u001b[0m \u001b[1;33m==\u001b[0m \u001b[1;36m2\u001b[0m\u001b[1;33m:\u001b[0m\u001b[1;33m\u001b[0m\u001b[0m\n\u001b[1;32m-> 1052\u001b[1;33m         \u001b[1;32mreturn\u001b[0m \u001b[0mtorch\u001b[0m\u001b[1;33m.\u001b[0m\u001b[0m_C\u001b[0m\u001b[1;33m.\u001b[0m\u001b[0m_nn\u001b[0m\u001b[1;33m.\u001b[0m\u001b[0mnll_loss\u001b[0m\u001b[1;33m(\u001b[0m\u001b[0minput\u001b[0m\u001b[1;33m,\u001b[0m \u001b[0mtarget\u001b[0m\u001b[1;33m,\u001b[0m \u001b[0mweight\u001b[0m\u001b[1;33m,\u001b[0m \u001b[0msize_average\u001b[0m\u001b[1;33m,\u001b[0m \u001b[0mignore_index\u001b[0m\u001b[1;33m,\u001b[0m \u001b[0mreduce\u001b[0m\u001b[1;33m)\u001b[0m\u001b[1;33m\u001b[0m\u001b[0m\n\u001b[0m\u001b[0;32m   1053\u001b[0m     \u001b[1;32melif\u001b[0m \u001b[0mdim\u001b[0m \u001b[1;33m==\u001b[0m \u001b[1;36m4\u001b[0m\u001b[1;33m:\u001b[0m\u001b[1;33m\u001b[0m\u001b[0m\n\u001b[0;32m   1054\u001b[0m         \u001b[1;32mreturn\u001b[0m \u001b[0mtorch\u001b[0m\u001b[1;33m.\u001b[0m\u001b[0m_C\u001b[0m\u001b[1;33m.\u001b[0m\u001b[0m_nn\u001b[0m\u001b[1;33m.\u001b[0m\u001b[0mnll_loss2d\u001b[0m\u001b[1;33m(\u001b[0m\u001b[0minput\u001b[0m\u001b[1;33m,\u001b[0m \u001b[0mtarget\u001b[0m\u001b[1;33m,\u001b[0m \u001b[0mweight\u001b[0m\u001b[1;33m,\u001b[0m \u001b[0msize_average\u001b[0m\u001b[1;33m,\u001b[0m \u001b[0mignore_index\u001b[0m\u001b[1;33m,\u001b[0m \u001b[0mreduce\u001b[0m\u001b[1;33m)\u001b[0m\u001b[1;33m\u001b[0m\u001b[0m\n",
      "\u001b[1;31mRuntimeError\u001b[0m: Assertion `cur_target >= 0 && cur_target < n_classes' failed.  at c:\\anaconda2\\conda-bld\\pytorch_1519501749874\\work\\torch\\lib\\thnn\\generic/ClassNLLCriterion.c:87"
     ]
    }
   ],
   "source": [
    "for epoch in range(10000):\n",
    "    out = model(input)\n",
    "    #_, pred = out.max(1)\n",
    "   # print(\"Target: \",str(target.view(1,-1)).split('\\n')[1])\n",
    "   # print(\"Pred: \", str(pred.view(1,-1)).split('\\n')[1])\n",
    "    #loss = F.binary_cross_entropy(out,target.float())\n",
    "    loss = F.nll_loss(out,target)\n",
    "    print(\"Loss: \",loss.data[0])\n",
    "    model.zero_grad()\n",
    "    loss.backward()\n",
    "    opt.step()"
   ]
  },
  {
   "cell_type": "code",
   "execution_count": 490,
   "metadata": {},
   "outputs": [
    {
     "name": "stdout",
     "output_type": "stream",
     "text": [
      "Target:  \n",
      "Pred:  \n"
     ]
    }
   ],
   "source": [
    "print(\"Target: \",str(target.view(1,-1)).split('\\n')[1])\n",
    "print(\"Pred: \", str(pred.view(1,-1)).split('\\n')[1])"
   ]
  },
  {
   "cell_type": "code",
   "execution_count": 502,
   "metadata": {},
   "outputs": [],
   "source": [
    "pred = np.round(out.data.numpy())"
   ]
  },
  {
   "cell_type": "code",
   "execution_count": 503,
   "metadata": {},
   "outputs": [
    {
     "data": {
      "text/plain": [
       "Variable containing:\n",
       " 0\n",
       "[torch.LongTensor of size 1]"
      ]
     },
     "execution_count": 503,
     "metadata": {},
     "output_type": "execute_result"
    }
   ],
   "source": [
    "target[350]"
   ]
  },
  {
   "cell_type": "code",
   "execution_count": 504,
   "metadata": {},
   "outputs": [],
   "source": [
    "torch.save(model.state_dict(), \"mymodel\")"
   ]
  },
  {
   "cell_type": "code",
   "execution_count": null,
   "metadata": {},
   "outputs": [],
   "source": []
  },
  {
   "cell_type": "code",
   "execution_count": 505,
   "metadata": {
    "collapsed": true
   },
   "outputs": [],
   "source": [
    "def Accuracy(Y_train,Yhat):\n",
    "    CorrectPredictions = 0\n",
    "    print(len(Y_train))\n",
    "    print(len(Yhat))\n",
    "    for i,current in enumerate(Y_train):\n",
    "        if((Y_train[i] == 0 and Yhat[i] < 0.5) or (Y_train[i] == 1 and Yhat[i] > 0.5)):\n",
    "            CorrectPredictions = CorrectPredictions + 1\n",
    "    return(100 * CorrectPredictions/len(Y_train), CorrectPredictions)\n"
   ]
  },
  {
   "cell_type": "code",
   "execution_count": 506,
   "metadata": {},
   "outputs": [],
   "source": [
    "t = target.data.numpy()"
   ]
  },
  {
   "cell_type": "code",
   "execution_count": 510,
   "metadata": {},
   "outputs": [
    {
     "name": "stdout",
     "output_type": "stream",
     "text": [
      "400\n",
      "400\n"
     ]
    }
   ],
   "source": [
    "accuracy, CorrectPredictions = Accuracy(t,pred)"
   ]
  },
  {
   "cell_type": "code",
   "execution_count": 511,
   "metadata": {},
   "outputs": [
    {
     "data": {
      "text/plain": [
       "398"
      ]
     },
     "execution_count": 511,
     "metadata": {},
     "output_type": "execute_result"
    }
   ],
   "source": [
    "CorrectPredictions"
   ]
  },
  {
   "cell_type": "code",
   "execution_count": 512,
   "metadata": {},
   "outputs": [
    {
     "data": {
      "text/plain": [
       "99.5"
      ]
     },
     "execution_count": 512,
     "metadata": {},
     "output_type": "execute_result"
    }
   ],
   "source": [
    "accuracy"
   ]
  },
  {
   "cell_type": "code",
   "execution_count": 513,
   "metadata": {
    "collapsed": true
   },
   "outputs": [],
   "source": [
    "the_model = Net(input_size = input_size, hidden_size = hidden_size, num_classes = num_classes)\n",
    "the_model.load_state_dict(torch.load(\"mymodel\"))"
   ]
  },
  {
   "cell_type": "code",
   "execution_count": 514,
   "metadata": {
    "collapsed": true
   },
   "outputs": [],
   "source": [
    "test_input = autograd.Variable(torch.Tensor(X_test))\n",
    "test_target = autograd.Variable(torch.Tensor(Y_test).long())"
   ]
  },
  {
   "cell_type": "code",
   "execution_count": 515,
   "metadata": {},
   "outputs": [],
   "source": [
    "out2 = the_model(test_input)\n",
    "_, pred2 = out2.max(1)"
   ]
  },
  {
   "cell_type": "code",
   "execution_count": 516,
   "metadata": {},
   "outputs": [
    {
     "data": {
      "text/plain": [
       "Variable containing:\n",
       " 0\n",
       " 0\n",
       " 0\n",
       " 0\n",
       " 0\n",
       " 0\n",
       " 0\n",
       " 0\n",
       " 0\n",
       " 0\n",
       " 0\n",
       " 0\n",
       " 0\n",
       " 0\n",
       " 0\n",
       " 0\n",
       " 0\n",
       " 0\n",
       " 0\n",
       " 0\n",
       " 0\n",
       " 0\n",
       " 0\n",
       " 0\n",
       " 0\n",
       " 0\n",
       " 0\n",
       " 0\n",
       " 0\n",
       " 0\n",
       " 0\n",
       " 0\n",
       " 0\n",
       " 0\n",
       " 0\n",
       " 0\n",
       " 0\n",
       " 0\n",
       " 0\n",
       " 0\n",
       " 0\n",
       " 0\n",
       " 0\n",
       " 0\n",
       " 0\n",
       " 0\n",
       " 0\n",
       " 0\n",
       " 0\n",
       " 0\n",
       " 0\n",
       " 0\n",
       " 0\n",
       " 0\n",
       " 0\n",
       " 0\n",
       " 0\n",
       " 0\n",
       " 0\n",
       " 0\n",
       " 0\n",
       " 0\n",
       " 0\n",
       " 0\n",
       " 0\n",
       " 0\n",
       " 0\n",
       " 0\n",
       " 0\n",
       " 0\n",
       " 0\n",
       " 0\n",
       " 0\n",
       " 0\n",
       " 0\n",
       " 0\n",
       " 0\n",
       " 0\n",
       " 0\n",
       " 0\n",
       " 0\n",
       " 0\n",
       " 0\n",
       " 0\n",
       " 0\n",
       " 0\n",
       " 0\n",
       " 0\n",
       " 0\n",
       " 0\n",
       " 0\n",
       " 0\n",
       " 0\n",
       " 0\n",
       " 0\n",
       " 0\n",
       " 0\n",
       " 0\n",
       " 0\n",
       " 0\n",
       " 0\n",
       " 0\n",
       " 0\n",
       " 0\n",
       " 0\n",
       " 0\n",
       " 0\n",
       " 0\n",
       " 0\n",
       " 0\n",
       " 0\n",
       " 0\n",
       " 0\n",
       " 0\n",
       " 0\n",
       " 0\n",
       " 0\n",
       " 0\n",
       " 0\n",
       " 0\n",
       " 0\n",
       " 0\n",
       " 0\n",
       " 0\n",
       " 0\n",
       " 0\n",
       " 0\n",
       " 0\n",
       " 0\n",
       " 0\n",
       " 0\n",
       " 0\n",
       " 0\n",
       " 0\n",
       " 0\n",
       " 0\n",
       " 0\n",
       " 0\n",
       " 0\n",
       " 0\n",
       " 0\n",
       " 0\n",
       " 0\n",
       " 0\n",
       " 0\n",
       " 0\n",
       " 0\n",
       " 0\n",
       " 0\n",
       " 0\n",
       " 0\n",
       " 0\n",
       " 0\n",
       " 0\n",
       " 0\n",
       " 0\n",
       " 0\n",
       " 0\n",
       " 0\n",
       " 0\n",
       " 0\n",
       " 0\n",
       " 0\n",
       " 0\n",
       " 0\n",
       " 0\n",
       " 0\n",
       " 0\n",
       " 0\n",
       " 0\n",
       " 0\n",
       " 0\n",
       " 0\n",
       " 0\n",
       " 0\n",
       " 0\n",
       " 0\n",
       " 0\n",
       " 0\n",
       " 0\n",
       " 0\n",
       " 0\n",
       " 0\n",
       " 0\n",
       " 0\n",
       " 0\n",
       " 0\n",
       " 0\n",
       " 0\n",
       " 0\n",
       " 0\n",
       " 0\n",
       " 0\n",
       " 0\n",
       " 0\n",
       " 0\n",
       " 0\n",
       " 0\n",
       " 0\n",
       " 0\n",
       " 0\n",
       " 0\n",
       " 0\n",
       " 0\n",
       " 0\n",
       " 0\n",
       " 0\n",
       " 0\n",
       " 0\n",
       " 0\n",
       " 0\n",
       " 0\n",
       " 0\n",
       " 0\n",
       " 0\n",
       " 0\n",
       " 0\n",
       " 0\n",
       "[torch.LongTensor of size 218]"
      ]
     },
     "execution_count": 516,
     "metadata": {},
     "output_type": "execute_result"
    }
   ],
   "source": [
    "pred2"
   ]
  },
  {
   "cell_type": "code",
   "execution_count": 517,
   "metadata": {},
   "outputs": [
    {
     "name": "stdout",
     "output_type": "stream",
     "text": [
      "218\n",
      "218\n"
     ]
    }
   ],
   "source": [
    "accuracytest, CorrectPredictionstest = Accuracy(test_target.data.numpy(), pred2.data.numpy())"
   ]
  },
  {
   "cell_type": "code",
   "execution_count": 519,
   "metadata": {},
   "outputs": [
    {
     "data": {
      "text/plain": [
       "44.95412844036697"
      ]
     },
     "execution_count": 519,
     "metadata": {},
     "output_type": "execute_result"
    }
   ],
   "source": [
    "accuracytest"
   ]
  },
  {
   "cell_type": "code",
   "execution_count": 392,
   "metadata": {},
   "outputs": [
    {
     "data": {
      "text/plain": [
       "145"
      ]
     },
     "execution_count": 392,
     "metadata": {},
     "output_type": "execute_result"
    }
   ],
   "source": [
    "CorrectPredictionstest"
   ]
  },
  {
   "cell_type": "code",
   "execution_count": null,
   "metadata": {
    "collapsed": true
   },
   "outputs": [],
   "source": []
  }
 ],
 "metadata": {
  "kernelspec": {
   "display_name": "Python 3",
   "language": "python",
   "name": "python3"
  },
  "language_info": {
   "codemirror_mode": {
    "name": "ipython",
    "version": 3
   },
   "file_extension": ".py",
   "mimetype": "text/x-python",
   "name": "python",
   "nbconvert_exporter": "python",
   "pygments_lexer": "ipython3",
   "version": "3.6.4"
  }
 },
 "nbformat": 4,
 "nbformat_minor": 2
}
